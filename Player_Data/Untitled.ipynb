{
 "cells": [
  {
   "cell_type": "code",
   "execution_count": 1,
   "metadata": {},
   "outputs": [],
   "source": [
    "import numpy as np\n",
    "import pandas as pd\n"
   ]
  },
  {
   "cell_type": "code",
   "execution_count": null,
   "metadata": {},
   "outputs": [],
   "source": [
    "# Importing the dataset\n",
    "data = pd.read_csv('Players.csv')\n",
    "data = data[data[\"Chance of playing next round\"]!=0]\n",
    "data = data[data[\"Chance of playing next round\"].notna()]\n",
    "\n",
    "\n",
    "Goalkeepers = data[data[\"Position\"]==1]\n",
    "Defenders = data[data[\"Position\"]==2]\n",
    "Midfeilders = data[data[\"Position\"]==3]\n",
    "Attackers = data[data[\"Position\"]==4]\n",
    "\n",
    "Goalkeepers = Goalkeepers[[\"PPG\", \"Total points\", \"Minutes Played\", \"Percentage owned\", \"Minutes Played\",\n",
    "                                      \"Clean sheets\",\n",
    "                                      \"Goals Conceded\", \"Penalties Saved\", \"Yellow Cards\", \"Saves\", \"Bonus\"]]\n",
    "\n"
   ]
  }
 ],
 "metadata": {
  "kernelspec": {
   "display_name": "Python 3",
   "language": "python",
   "name": "python3"
  },
  "language_info": {
   "codemirror_mode": {
    "name": "ipython",
    "version": 3
   },
   "file_extension": ".py",
   "mimetype": "text/x-python",
   "name": "python",
   "nbconvert_exporter": "python",
   "pygments_lexer": "ipython3",
   "version": "3.8.3"
  }
 },
 "nbformat": 4,
 "nbformat_minor": 4
}
